{
 "cells": [
  {
   "cell_type": "code",
   "execution_count": 1,
   "id": "a29c0192",
   "metadata": {},
   "outputs": [
    {
     "name": "stdout",
     "output_type": "stream",
     "text": [
      "Ziggie: 0.135\n"
     ]
    }
   ],
   "source": [
    "import numpy as np\n",
    "import zig_params as zp\n",
    "import matplotlib.pyplot as plt\n",
    "\n",
    "# Load example points from text file.\n",
    "pts = np.loadtxt(\"./AraiPlot.txt\")\n",
    "\n",
    "# if using a comma delimited file:\n",
    "# pts = np.loadtxt(\"./AraiPlot.csv\",delimiter=\",\")\n",
    "\n",
    "# separate x points and y points, shape: (len(pts), 1)\n",
    "Xpts = pts[:,0:1]\n",
    "Ypts = pts[:,1:2]\n",
    "# Set first and last points of fit\n",
    "seg_min = 0\n",
    "seg_max = len(pts)-1\n",
    "\n",
    "# set criteria, the standard value is 0.1\n",
    "criteria = 0.1\n",
    "# calculate ziggie\n",
    "ziggie, cum_len, arc, RMS = zp.get_ziggie(Xpts, Ypts, seg_min, seg_max)\n",
    "print(f\"Ziggie: {ziggie:0.3f}\")\n",
    "#print(f\"RMS: {RMS:0.3f}\")\n"
   ]
  },
  {
   "cell_type": "code",
   "execution_count": 2,
   "id": "cbbf3996",
   "metadata": {},
   "outputs": [
    {
     "data": {
      "image/png": "[encoded data removed]",
      "text/plain": [
       "<Figure size 640x480 with 1 Axes>"
      ]
     },
     "metadata": {},
     "output_type": "display_data"
    }
   ],
   "source": [
    "# Plotting\n",
    "fig, ax = plt.subplots()\n",
    "# Plot all points in light gray\n",
    "ax.plot(Xpts, Ypts, 'o-', color='lightgray', label=\"All Points\")\n",
    "# Highlight current segment\n",
    "seg_color = 'red' if ziggie >= criteria else ('orange' if ziggie < 0 else 'blue')\n",
    "ax.plot(Xpts[seg_min:seg_max+1], Ypts[seg_min:seg_max+1], 'o-', color=seg_color, label=\"Fit Segment\")\n",
    "# Display ziggie value\n",
    "ax.text(0.97, 0.97, f\"Ziggie: {ziggie:.3f}\", transform=ax.transAxes, ha='right', va='top', fontsize=16, color=seg_color)\n",
    "plt.show()"
   ]
  },
  {
   "cell_type": "code",
   "execution_count": 3,
   "id": "33adc9b4",
   "metadata": {},
   "outputs": [
    {
     "name": "stdout",
     "output_type": "stream",
     "text": [
      "start=0, end=2, Ziggie: 0.348\n",
      "start=0, end=3, Ziggie: 0.478\n",
      "start=0, end=4, Ziggie: 0.247\n",
      "start=0, end=5, Ziggie: 0.257\n",
      "start=0, end=6, Ziggie: 0.188\n",
      "start=0, end=7, Ziggie: 0.158\n",
      "start=0, end=8, Ziggie: 0.149\n",
      "start=0, end=9, Ziggie: 0.130\n",
      "start=0, end=10, Ziggie: 0.145\n",
      "start=0, end=11, Ziggie: 0.142\n",
      "start=0, end=12, Ziggie: 0.138\n",
      "start=0, end=13, Ziggie: 0.135\n",
      "start=1, end=3, Ziggie: -0.011  - CAUTION (ziggie less than zero)\n",
      "start=1, end=4, Ziggie: -0.424  - CAUTION (ziggie less than zero)\n",
      "start=1, end=5, Ziggie: -0.329  - CAUTION (ziggie less than zero)\n",
      "start=1, end=6, Ziggie: 0.216\n",
      "start=1, end=7, Ziggie: 0.143\n",
      "start=1, end=8, Ziggie: 0.143\n",
      "start=1, end=9, Ziggie: 0.102\n",
      "start=1, end=10, Ziggie: 0.123\n",
      "start=1, end=11, Ziggie: 0.118\n",
      "start=1, end=12, Ziggie: 0.114\n",
      "start=1, end=13, Ziggie: 0.109\n",
      "start=2, end=4, Ziggie: -0.405  - CAUTION (ziggie less than zero)\n",
      "start=2, end=5, Ziggie: -0.028  - CAUTION (ziggie less than zero)\n",
      "start=2, end=6, Ziggie: 0.114\n",
      "start=2, end=7, Ziggie: 0.087  - PASS\n",
      "start=2, end=8, Ziggie: 0.086  - PASS\n",
      "start=2, end=9, Ziggie: 0.073  - PASS\n",
      "start=2, end=10, Ziggie: 0.091  - PASS\n",
      "start=2, end=11, Ziggie: 0.091  - PASS\n",
      "start=2, end=12, Ziggie: 0.087  - PASS\n",
      "start=2, end=13, Ziggie: 0.086  - PASS\n",
      "start=3, end=5, Ziggie: -0.125  - CAUTION (ziggie less than zero)\n",
      "start=3, end=6, Ziggie: 0.046  - PASS\n",
      "start=3, end=7, Ziggie: 0.046  - PASS\n",
      "start=3, end=8, Ziggie: 0.046  - PASS\n",
      "start=3, end=9, Ziggie: 0.054  - PASS\n",
      "start=3, end=10, Ziggie: 0.071  - PASS\n",
      "start=3, end=11, Ziggie: 0.073  - PASS\n",
      "start=3, end=12, Ziggie: 0.070  - PASS\n",
      "start=3, end=13, Ziggie: 0.072  - PASS\n",
      "start=4, end=6, Ziggie: -0.040  - CAUTION (ziggie less than zero)\n",
      "start=4, end=7, Ziggie: 0.006  - PASS\n",
      "start=4, end=8, Ziggie: 0.045  - PASS\n",
      "start=4, end=9, Ziggie: 0.035  - PASS\n",
      "start=4, end=10, Ziggie: 0.060  - PASS\n",
      "start=4, end=11, Ziggie: 0.060  - PASS\n",
      "start=4, end=12, Ziggie: 0.058  - PASS\n",
      "start=4, end=13, Ziggie: 0.057  - PASS\n",
      "start=5, end=7, Ziggie: -0.002  - CAUTION (ziggie less than zero)\n",
      "start=5, end=8, Ziggie: 0.015  - PASS\n",
      "start=5, end=9, Ziggie: 0.028  - PASS\n",
      "start=5, end=10, Ziggie: 0.049  - PASS\n",
      "start=5, end=11, Ziggie: 0.052  - PASS\n",
      "start=5, end=12, Ziggie: 0.049  - PASS\n",
      "start=5, end=13, Ziggie: 0.051  - PASS\n",
      "start=6, end=8, Ziggie: -0.009  - CAUTION (ziggie less than zero)\n",
      "start=6, end=9, Ziggie: 0.028  - PASS\n",
      "start=6, end=10, Ziggie: 0.048  - PASS\n",
      "start=6, end=11, Ziggie: 0.051  - PASS\n",
      "start=6, end=12, Ziggie: 0.047  - PASS\n",
      "start=6, end=13, Ziggie: 0.049  - PASS\n",
      "start=7, end=9, Ziggie: -0.011  - CAUTION (ziggie less than zero)\n",
      "start=7, end=10, Ziggie: 0.039  - PASS\n",
      "start=7, end=11, Ziggie: 0.039  - PASS\n",
      "start=7, end=12, Ziggie: 0.037  - PASS\n",
      "start=7, end=13, Ziggie: 0.037  - PASS\n",
      "start=8, end=10, Ziggie: -0.012  - CAUTION (ziggie less than zero)\n",
      "start=8, end=11, Ziggie: 0.018  - PASS\n",
      "start=8, end=12, Ziggie: 0.018  - PASS\n",
      "start=8, end=13, Ziggie: 0.025  - PASS\n",
      "start=9, end=11, Ziggie: -0.012  - CAUTION (ziggie less than zero)\n",
      "start=9, end=12, Ziggie: 0.005  - PASS\n",
      "start=9, end=13, Ziggie: 0.005  - PASS\n",
      "start=10, end=12, Ziggie: -0.001  - CAUTION (ziggie less than zero)\n",
      "start=10, end=13, Ziggie: 0.003  - PASS\n",
      "start=11, end=13, Ziggie: -0.001  - CAUTION (ziggie less than zero)\n"
     ]
    }
   ],
   "source": [
    "# Calculate ziggie for all fits (with at least 3 points)\n",
    "n_pts = len(pts)\n",
    "# option to show RMS values\n",
    "show_rms = True\n",
    "\n",
    "# Iterate over all valid segments with at least 3 points\n",
    "for seg_min in range(n_pts - 2):\n",
    "    for seg_max in range(seg_min + 2, n_pts):\n",
    "        # Calculate ziggie for the current segment\n",
    "        ziggie, cum_len, arc, RMS = zp.get_ziggie(Xpts, Ypts, seg_min, seg_max)\n",
    "\n",
    "        # Print ziggie output\n",
    "        print(f\"start={seg_min}, end={seg_max}, Ziggie: {ziggie:0.3f}\", end=\"\")\n",
    "        if show_rms == True:\n",
    "            print(f\" RMS: {RMS:0.3f}\")\n",
    "        # Add if fit passes\n",
    "        if ziggie <= criteria:\n",
    "            if ziggie < 0:\n",
    "                print(\"  - CAUTION (ziggie less than zero)\")\n",
    "            else:\n",
    "                print(\"  - PASS\")\n",
    "\n",
    "        else:\n",
    "            print()"
   ]
  },
  {
   "cell_type": "code",
   "execution_count": null,
   "id": "3e1f5ab2",
   "metadata": {},
   "outputs": [],
   "source": []
  }
 ],
 "metadata": {
  "kernelspec": {
   "display_name": "Python 3 (ipykernel)",
   "language": "python",
   "name": "python3"
  },
  "language_info": {
   "codemirror_mode": {
    "name": "ipython",
    "version": 3
   },
   "file_extension": ".py",
   "mimetype": "text/x-python",
   "name": "python",
   "nbconvert_exporter": "python",
   "pygments_lexer": "ipython3",
   "version": "3.10.16"
  }
 },
 "nbformat": 4,
 "nbformat_minor": 5
}
